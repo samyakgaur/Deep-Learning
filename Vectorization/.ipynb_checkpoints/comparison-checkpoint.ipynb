{
 "cells": [
  {
   "cell_type": "code",
   "execution_count": 1,
   "metadata": {},
   "outputs": [],
   "source": [
    "# Comparing time taken \n",
    "# 1.if we run for loop \n",
    "# 2.if we use numpy .dot\n",
    "\n",
    "#importing numpy library as np\n",
    "import numpy as np"
   ]
  },
  {
   "cell_type": "code",
   "execution_count": 8,
   "metadata": {},
   "outputs": [
    {
     "name": "stdout",
     "output_type": "stream",
     "text": [
      "1590151636.8914108\n",
      "[0.09552562 0.00284132 0.38427317 ... 0.32603725 0.63555687 0.49358257]\n",
      "397.14932441711426\n"
     ]
    }
   ],
   "source": [
    "import time \n",
    "\n",
    "#using random.rand function to make a nd array of numpy\n",
    "\n",
    "a=np.random.rand(100000000)\n",
    "b=np.random.rand(100000000)\n",
    "\n",
    "start= time.time()\n",
    "for i in range(100000000):\n",
    "    c+=a[i]+b[i]\n",
    "end= time.time()\n",
    "print(\"Time taken using for loop\"+str((1000)*(end-start))\n"
   ]
  },
  {
   "cell_type": "code",
   "execution_count": null,
   "metadata": {},
   "outputs": [],
   "source": []
  }
 ],
 "metadata": {
  "kernelspec": {
   "display_name": "Python 3",
   "language": "python",
   "name": "python3"
  },
  "language_info": {
   "codemirror_mode": {
    "name": "ipython",
    "version": 3
   },
   "file_extension": ".py",
   "mimetype": "text/x-python",
   "name": "python",
   "nbconvert_exporter": "python",
   "pygments_lexer": "ipython3",
   "version": "3.7.3"
  }
 },
 "nbformat": 4,
 "nbformat_minor": 2
}
