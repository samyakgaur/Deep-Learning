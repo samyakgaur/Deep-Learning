{
 "cells": [
  {
   "cell_type": "code",
   "execution_count": 4,
   "metadata": {},
   "outputs": [],
   "source": [
    "# Comparing time taken \n",
    "# 1.if we run for loop \n",
    "# 2.if we use numpy .dot\n",
    "\n",
    "#importing numpy library as np\n",
    "import numpy as np"
   ]
  },
  {
   "cell_type": "code",
   "execution_count": 11,
   "metadata": {},
   "outputs": [
    {
     "name": "stdout",
     "output_type": "stream",
     "text": [
      "250236.41240304787\n",
      "Time taken using for loop: 512.0937824249268\n",
      "250236.41240305034\n",
      "Time taken using .dot: 1.27410888671875\n",
      "Time difference: 510.819673538208\n"
     ]
    }
   ],
   "source": [
    "import time \n",
    "\n",
    "#using random.rand function to make a nd array of numpy\n",
    "\n",
    "a=np.random.rand(1000000)\n",
    "b=np.random.rand(1000000)\n",
    "c=0\n",
    "start= time.time()\n",
    "for i in range(1000000):\n",
    "    c+=a[i]*b[i]\n",
    "print(c)\n",
    "end= time.time()\n",
    "time1=(1000)*(end-start)\n",
    "print(\"Time taken using for loop: \"+str(time1))\n",
    "\n",
    "\n",
    "start= time.time()\n",
    "c=np.dot(a,b)\n",
    "print(c)\n",
    "end= time.time()\n",
    "time2=(1000)*(end-start)\n",
    "print(\"Time taken using .dot: \"+str(time2))\n",
    "\n",
    "print(\"Time difference: \"+str(time1-time2))\n",
    "\n"
   ]
  },
  {
   "cell_type": "code",
   "execution_count": null,
   "metadata": {},
   "outputs": [],
   "source": []
  },
  {
   "cell_type": "code",
   "execution_count": null,
   "metadata": {},
   "outputs": [],
   "source": []
  }
 ],
 "metadata": {
  "kernelspec": {
   "display_name": "Python 3",
   "language": "python",
   "name": "python3"
  },
  "language_info": {
   "codemirror_mode": {
    "name": "ipython",
    "version": 3
   },
   "file_extension": ".py",
   "mimetype": "text/x-python",
   "name": "python",
   "nbconvert_exporter": "python",
   "pygments_lexer": "ipython3",
   "version": "3.7.3"
  }
 },
 "nbformat": 4,
 "nbformat_minor": 2
}
